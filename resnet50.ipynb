{
 "cells": [
  {
   "cell_type": "markdown",
   "metadata": {
    "colab_type": "text",
    "id": "qjQnu80ijCa-"
   },
   "source": [
    "# CNN + Transfer learning 練習"
   ]
  },
  {
   "cell_type": "code",
   "execution_count": 1,
   "metadata": {},
   "outputs": [],
   "source": [
    "import numpy as np\n",
    "import pandas as pd\n",
    "import os\n",
    "import matplotlib.pyplot as plt\n",
    "%matplotlib inline\n",
    "os.environ[\"CUDA_VISIBLE_DEVICES\"] = \"0\""
   ]
  },
  {
   "cell_type": "code",
   "execution_count": 2,
   "metadata": {
    "colab": {
     "base_uri": "https://localhost:8080/",
     "height": 34
    },
    "colab_type": "code",
    "executionInfo": {
     "elapsed": 2507,
     "status": "ok",
     "timestamp": 1563005360776,
     "user": {
      "displayName": "kinna kinna",
      "photoUrl": "",
      "userId": "09336290170720198249"
     },
     "user_tz": -480
    },
    "id": "vjFmupouR8XP",
    "outputId": "144c892d-e51f-4bc0-fdaf-2048146749ff"
   },
   "outputs": [],
   "source": [
    "from tensorflow import keras\n",
    "from tensorflow.keras.preprocessing.image import ImageDataGenerator\n",
    "from tensorflow.keras.models import Model\n",
    "from tensorflow.keras.layers import (Dense, Dropout, Activation,\n",
    "                                     Flatten, GlobalAveragePooling2D)\n",
    "import tensorflow as tf"
   ]
  },
  {
   "cell_type": "markdown",
   "metadata": {
    "colab_type": "text",
    "id": "kxBu1rarjRU0"
   },
   "source": [
    "## Where AM I 資料讀入及前處理"
   ]
  },
  {
   "cell_type": "code",
   "execution_count": 63,
   "metadata": {},
   "outputs": [],
   "source": [
    "pf_train = pd.read_csv('dataset/train.txt', header=None, sep=' ', names=['img_path', 'label'])"
   ]
  },
  {
   "cell_type": "code",
   "execution_count": 64,
   "metadata": {},
   "outputs": [],
   "source": [
    "pf_valid = pd.read_csv('dataset/valid.txt', header=None, sep=' ', names=['img_path', 'label'])"
   ]
  },
  {
   "cell_type": "code",
   "execution_count": 65,
   "metadata": {},
   "outputs": [
    {
     "name": "stdout",
     "output_type": "stream",
     "text": [
      "(1020, 2) (1020, 2)\n"
     ]
    },
    {
     "data": {
      "text/html": [
       "<div>\n",
       "<style scoped>\n",
       "    .dataframe tbody tr th:only-of-type {\n",
       "        vertical-align: middle;\n",
       "    }\n",
       "\n",
       "    .dataframe tbody tr th {\n",
       "        vertical-align: top;\n",
       "    }\n",
       "\n",
       "    .dataframe thead th {\n",
       "        text-align: right;\n",
       "    }\n",
       "</style>\n",
       "<table border=\"1\" class=\"dataframe\">\n",
       "  <thead>\n",
       "    <tr style=\"text-align: right;\">\n",
       "      <th></th>\n",
       "      <th>img_path</th>\n",
       "      <th>label</th>\n",
       "    </tr>\n",
       "  </thead>\n",
       "  <tbody>\n",
       "    <tr>\n",
       "      <th>0</th>\n",
       "      <td>jpg/image_03860.jpg</td>\n",
       "      <td>16</td>\n",
       "    </tr>\n",
       "    <tr>\n",
       "      <th>1</th>\n",
       "      <td>jpg/image_06092.jpg</td>\n",
       "      <td>13</td>\n",
       "    </tr>\n",
       "    <tr>\n",
       "      <th>2</th>\n",
       "      <td>jpg/image_02400.jpg</td>\n",
       "      <td>42</td>\n",
       "    </tr>\n",
       "  </tbody>\n",
       "</table>\n",
       "</div>"
      ],
      "text/plain": [
       "              img_path  label\n",
       "0  jpg/image_03860.jpg     16\n",
       "1  jpg/image_06092.jpg     13\n",
       "2  jpg/image_02400.jpg     42"
      ]
     },
     "execution_count": 65,
     "metadata": {},
     "output_type": "execute_result"
    }
   ],
   "source": [
    "print(pf_train.shape, pf_valid.shape)\n",
    "pf_train.head(3)"
   ]
  },
  {
   "cell_type": "markdown",
   "metadata": {},
   "source": [
    "# 比例有點奇怪，可能要增加訓練集的比例\n",
    "---"
   ]
  },
  {
   "cell_type": "code",
   "execution_count": 79,
   "metadata": {},
   "outputs": [],
   "source": [
    "train_list = pf_train\n",
    "test_list = pf_valid\n",
    "data_list = pd.concat([pf_train,pf_valid], axis=0)\n",
    "\n",
    "# from sklearn.model_selection import train_test_split\n",
    "\n",
    "# train_list, test_list = train_test_split(data_list,\n",
    "#                                          test_size=0.1,\n",
    "#                                          random_state=42,\n",
    "#                                          stratify=data_list['label'].values)"
   ]
  },
  {
   "cell_type": "markdown",
   "metadata": {},
   "source": [
    "# 觀察訓練集的類別分布，每個類別都是10張圖片"
   ]
  },
  {
   "cell_type": "code",
   "execution_count": 108,
   "metadata": {},
   "outputs": [
    {
     "data": {
      "image/png": "[encoded data removed]",
      "text/plain": [
       "<Figure size 2160x360 with 1 Axes>"
      ]
     },
     "metadata": {
      "needs_background": "light"
     },
     "output_type": "display_data"
    }
   ],
   "source": [
    "uniques, counts = np.unique(pf_train['label'], return_counts=True)\n",
    "\n",
    "plt.figure(figsize=(30, 5))\n",
    "plt.bar(uniques, counts)\n",
    "plt.xticks(fontsize=16)\n",
    "plt.show()"
   ]
  },
  {
   "cell_type": "markdown",
   "metadata": {},
   "source": [
    "# 把label轉成字串(原來是int64)"
   ]
  },
  {
   "cell_type": "code",
   "execution_count": 86,
   "metadata": {},
   "outputs": [],
   "source": [
    "train_list['label'] = train_list['label'].astype(str)\n",
    "test_list['label'] = test_list['label'].astype(str)"
   ]
  },
  {
   "cell_type": "code",
   "execution_count": 87,
   "metadata": {},
   "outputs": [
    {
     "data": {
      "text/html": [
       "<div>\n",
       "<style scoped>\n",
       "    .dataframe tbody tr th:only-of-type {\n",
       "        vertical-align: middle;\n",
       "    }\n",
       "\n",
       "    .dataframe tbody tr th {\n",
       "        vertical-align: top;\n",
       "    }\n",
       "\n",
       "    .dataframe thead th {\n",
       "        text-align: right;\n",
       "    }\n",
       "</style>\n",
       "<table border=\"1\" class=\"dataframe\">\n",
       "  <thead>\n",
       "    <tr style=\"text-align: right;\">\n",
       "      <th></th>\n",
       "      <th>img_path</th>\n",
       "      <th>label</th>\n",
       "    </tr>\n",
       "  </thead>\n",
       "  <tbody>\n",
       "    <tr>\n",
       "      <th>0</th>\n",
       "      <td>jpg/image_03860.jpg</td>\n",
       "      <td>16</td>\n",
       "    </tr>\n",
       "    <tr>\n",
       "      <th>1</th>\n",
       "      <td>jpg/image_06092.jpg</td>\n",
       "      <td>13</td>\n",
       "    </tr>\n",
       "    <tr>\n",
       "      <th>2</th>\n",
       "      <td>jpg/image_02400.jpg</td>\n",
       "      <td>42</td>\n",
       "    </tr>\n",
       "    <tr>\n",
       "      <th>3</th>\n",
       "      <td>jpg/image_02852.jpg</td>\n",
       "      <td>55</td>\n",
       "    </tr>\n",
       "    <tr>\n",
       "      <th>4</th>\n",
       "      <td>jpg/image_07710.jpg</td>\n",
       "      <td>96</td>\n",
       "    </tr>\n",
       "    <tr>\n",
       "      <th>...</th>\n",
       "      <td>...</td>\n",
       "      <td>...</td>\n",
       "    </tr>\n",
       "    <tr>\n",
       "      <th>1015</th>\n",
       "      <td>jpg/image_02944.jpg</td>\n",
       "      <td>59</td>\n",
       "    </tr>\n",
       "    <tr>\n",
       "      <th>1016</th>\n",
       "      <td>jpg/image_07434.jpg</td>\n",
       "      <td>93</td>\n",
       "    </tr>\n",
       "    <tr>\n",
       "      <th>1017</th>\n",
       "      <td>jpg/image_02684.jpg</td>\n",
       "      <td>57</td>\n",
       "    </tr>\n",
       "    <tr>\n",
       "      <th>1018</th>\n",
       "      <td>jpg/image_01639.jpg</td>\n",
       "      <td>81</td>\n",
       "    </tr>\n",
       "    <tr>\n",
       "      <th>1019</th>\n",
       "      <td>jpg/image_03165.jpg</td>\n",
       "      <td>10</td>\n",
       "    </tr>\n",
       "  </tbody>\n",
       "</table>\n",
       "<p>1020 rows × 2 columns</p>\n",
       "</div>"
      ],
      "text/plain": [
       "                 img_path label\n",
       "0     jpg/image_03860.jpg    16\n",
       "1     jpg/image_06092.jpg    13\n",
       "2     jpg/image_02400.jpg    42\n",
       "3     jpg/image_02852.jpg    55\n",
       "4     jpg/image_07710.jpg    96\n",
       "...                   ...   ...\n",
       "1015  jpg/image_02944.jpg    59\n",
       "1016  jpg/image_07434.jpg    93\n",
       "1017  jpg/image_02684.jpg    57\n",
       "1018  jpg/image_01639.jpg    81\n",
       "1019  jpg/image_03165.jpg    10\n",
       "\n",
       "[1020 rows x 2 columns]"
      ]
     },
     "execution_count": 87,
     "metadata": {},
     "output_type": "execute_result"
    }
   ],
   "source": [
    "train_list"
   ]
  },
  {
   "cell_type": "code",
   "execution_count": 77,
   "metadata": {},
   "outputs": [],
   "source": [
    "img_size = 224\n",
    "num_class = len(data_list['label'].unique())"
   ]
  },
  {
   "cell_type": "markdown",
   "metadata": {
    "colab_type": "text",
    "id": "l_mL6wfrC52J"
   },
   "source": [
    "## 讀入 Pre-trained Model"
   ]
  },
  {
   "cell_type": "code",
   "execution_count": 39,
   "metadata": {},
   "outputs": [],
   "source": [
    "from tensorflow.keras.applications.resnet import (ResNet50, preprocess_input)"
   ]
  },
  {
   "cell_type": "code",
   "execution_count": 40,
   "metadata": {
    "colab": {
     "base_uri": "https://localhost:8080/",
     "height": 620
    },
    "colab_type": "code",
    "executionInfo": {
     "elapsed": 5152,
     "status": "ok",
     "timestamp": 1563005580377,
     "user": {
      "displayName": "kinna kinna",
      "photoUrl": "",
      "userId": "09336290170720198249"
     },
     "user_tz": -480
    },
    "id": "Y3aJkkKcC52L",
    "outputId": "dfb1e4dc-8aea-404a-85e5-b6a59ea3f0bb"
   },
   "outputs": [],
   "source": [
    "pre_model = ResNet50(weights='imagenet', include_top=False,\n",
    "                     input_shape=(img_size, img_size, 3))\n",
    "\n",
    "x = GlobalAveragePooling2D()(pre_model.output)\n",
    "# x = Dense(128, activation='relu')(x)\n",
    "x = Dropout(0.25)(x)\n",
    "outputs = Dense(num_class, activation='softmax')(x)\n",
    "\n",
    "\n",
    "model = Model(inputs=pre_model.inputs, outputs=outputs)"
   ]
  },
  {
   "cell_type": "code",
   "execution_count": 42,
   "metadata": {},
   "outputs": [],
   "source": [
    "# model.summary()"
   ]
  },
  {
   "cell_type": "markdown",
   "metadata": {},
   "source": [
    "# 決定 Pre-Train 參數量"
   ]
  },
  {
   "cell_type": "code",
   "execution_count": 43,
   "metadata": {},
   "outputs": [],
   "source": [
    "pre_model.trainable = True\n",
    "\n",
    "# trainable_layer = 10\n",
    "# for layer in pre_model.layers[:-trainable_layer]:\n",
    "#     layer.trainable = False\n",
    "\n",
    "# for layer in model.layers:\n",
    "#     print(layer, layer.trainable)\n",
    "\n",
    "# model.summary()"
   ]
  },
  {
   "cell_type": "code",
   "execution_count": 44,
   "metadata": {
    "colab": {
     "base_uri": "https://localhost:8080/",
     "height": 71
    },
    "colab_type": "code",
    "executionInfo": {
     "elapsed": 641,
     "status": "ok",
     "timestamp": 1563005718020,
     "user": {
      "displayName": "kinna kinna",
      "photoUrl": "",
      "userId": "09336290170720198249"
     },
     "user_tz": -480
    },
    "id": "dtPtV8bwSMO7",
    "outputId": "714004b6-a2c2-4b7f-b0de-6f0b06728b03"
   },
   "outputs": [],
   "source": [
    "learning_rate = 1e-5\n",
    "optimizer = keras.optimizers.Adam(lr=learning_rate)\n",
    "\n",
    "model.compile(loss='categorical_crossentropy',\n",
    "              optimizer=optimizer,\n",
    "              metrics=['accuracy'])"
   ]
  },
  {
   "cell_type": "markdown",
   "metadata": {
    "colab_type": "text",
    "id": "Ldw-zoshjx38"
   },
   "source": [
    "# Data Augmentation"
   ]
  },
  {
   "cell_type": "code",
   "execution_count": 110,
   "metadata": {
    "cellView": "both",
    "colab": {},
    "colab_type": "code",
    "id": "lJVCV4ApSEmI"
   },
   "outputs": [],
   "source": [
    "batch_size = 32\n",
    "num_steps = len(train_list) // batch_size + 1\n",
    "num_epochs = 20"
   ]
  },
  {
   "cell_type": "code",
   "execution_count": 111,
   "metadata": {},
   "outputs": [],
   "source": [
    "train_datagen = ImageDataGenerator(\n",
    "                                   width_shift_range=0.1,\n",
    "                                   height_shift_range=0.1,\n",
    "                                   horizontal_flip=True,\n",
    "                                   preprocessing_function=preprocess_input\n",
    "                                  )\n",
    "test_datagen = ImageDataGenerator(preprocessing_function=preprocess_input)"
   ]
  },
  {
   "cell_type": "code",
   "execution_count": 112,
   "metadata": {},
   "outputs": [
    {
     "name": "stdout",
     "output_type": "stream",
     "text": [
      "Found 1020 validated image filenames belonging to 102 classes.\n",
      "Found 1020 validated image filenames belonging to 102 classes.\n"
     ]
    }
   ],
   "source": [
    "data_path='dataset'\n",
    "img_shape = (img_size, img_size)\n",
    "\n",
    "train_generator = train_datagen.flow_from_dataframe(\n",
    "                                                    dataframe=train_list,\n",
    "                                                    directory=data_path,\n",
    "                                                    x_col=\"img_path\",\n",
    "                                                    y_col=\"label\",\n",
    "                                                    target_size=img_shape,\n",
    "                                                    batch_size=batch_size,\n",
    "                                                    class_mode='categorical')\n",
    "\n",
    "valid_generator = test_datagen.flow_from_dataframe(\n",
    "                                                    dataframe=test_list,\n",
    "                                                    directory=data_path,\n",
    "                                                    x_col=\"img_path\",\n",
    "                                                    y_col=\"label\",\n",
    "                                                    target_size=img_shape,\n",
    "                                                    batch_size=batch_size,\n",
    "                                                    class_mode='categorical',\n",
    "                                                    shuffle=False)\n",
    "\n",
    "# 用在不知道 label 的資料讀取上\n",
    "# test_generator = test_datagen.flow_from_dataframe(\n",
    "#                                                     dataframe=test_list,\n",
    "#                                                     directory=data_path,\n",
    "#                                                     x_col=\"img_path\",\n",
    "#                                                     target_size=img_shape,\n",
    "#                                                     batch_size=batch_size,\n",
    "#                                                     class_mode=None,\n",
    "#                                                     shuffle=False)\n"
   ]
  },
  {
   "cell_type": "markdown",
   "metadata": {
    "colab_type": "text",
    "id": "w3ZbQfBhkKQ_"
   },
   "source": [
    "## 開始訓練模型"
   ]
  },
  {
   "cell_type": "code",
   "execution_count": 113,
   "metadata": {},
   "outputs": [],
   "source": [
    "model_dir = 'model-logs/resnet50'\n",
    "if not os.path.exists(model_dir):\n",
    "    os.makedirs(model_dir)\n",
    "\n",
    "logfiles = model_dir + '/{}-{}'.format('basic_model',\n",
    "                                       model.__class__.__name__)\n",
    "model_cbk = keras.callbacks.TensorBoard(log_dir=logfiles,\n",
    "                                        histogram_freq=1)\n",
    "\n",
    "modelfiles = model_dir + '/{}-best-model.h5'.format('basic_model')\n",
    "model_mckp = keras.callbacks.ModelCheckpoint(modelfiles,\n",
    "                                             monitor='val_accuracy',\n",
    "                                             save_best_only=True)\n",
    "\n",
    "earlystop = keras.callbacks.EarlyStopping(monitor='val_loss',\n",
    "                                          patience=5,\n",
    "                                          verbose=1)\n",
    "\n",
    "\n",
    "callbacks_list = [model_cbk, model_mckp, earlystop]"
   ]
  },
  {
   "cell_type": "code",
   "execution_count": 114,
   "metadata": {
    "colab": {
     "base_uri": "https://localhost:8080/",
     "height": 652
    },
    "colab_type": "code",
    "executionInfo": {
     "elapsed": 541352,
     "status": "ok",
     "timestamp": 1563006265676,
     "user": {
      "displayName": "kinna kinna",
      "photoUrl": "",
      "userId": "09336290170720198249"
     },
     "user_tz": -480
    },
    "id": "dQ8rNZ9Cd7Ba",
    "outputId": "d5a95f17-fb07-4b19-f8ef-55fdfea5c20f"
   },
   "outputs": [
    {
     "name": "stdout",
     "output_type": "stream",
     "text": [
      "Epoch 1/20\n",
      "32/32 [==============================] - 33s 1s/step - loss: 1.7415 - accuracy: 0.7382 - val_loss: 1.9562 - val_accuracy: 0.6010\n",
      "Epoch 2/20\n",
      "32/32 [==============================] - 27s 829ms/step - loss: 1.5314 - accuracy: 0.7843 - val_loss: 1.7855 - val_accuracy: 0.6392\n",
      "Epoch 3/20\n",
      "32/32 [==============================] - 26s 817ms/step - loss: 1.3643 - accuracy: 0.8098 - val_loss: 1.6435 - val_accuracy: 0.6765\n",
      "Epoch 4/20\n",
      "32/32 [==============================] - 26s 820ms/step - loss: 1.1914 - accuracy: 0.8598 - val_loss: 1.5250 - val_accuracy: 0.7029\n",
      "Epoch 5/20\n",
      "32/32 [==============================] - 26s 824ms/step - loss: 1.0114 - accuracy: 0.8980 - val_loss: 1.4246 - val_accuracy: 0.7216\n",
      "Epoch 6/20\n",
      "32/32 [==============================] - 26s 818ms/step - loss: 0.8940 - accuracy: 0.9167 - val_loss: 1.3479 - val_accuracy: 0.7402\n",
      "Epoch 7/20\n",
      "32/32 [==============================] - 26s 827ms/step - loss: 0.7883 - accuracy: 0.9392 - val_loss: 1.2702 - val_accuracy: 0.7520\n",
      "Epoch 8/20\n",
      "32/32 [==============================] - 26s 822ms/step - loss: 0.7116 - accuracy: 0.9490 - val_loss: 1.1951 - val_accuracy: 0.7716\n",
      "Epoch 9/20\n",
      "32/32 [==============================] - 26s 826ms/step - loss: 0.5786 - accuracy: 0.9647 - val_loss: 1.1332 - val_accuracy: 0.7814\n",
      "Epoch 10/20\n",
      "32/32 [==============================] - 27s 843ms/step - loss: 0.5367 - accuracy: 0.9676 - val_loss: 1.0836 - val_accuracy: 0.7902\n",
      "Epoch 11/20\n",
      "32/32 [==============================] - 26s 816ms/step - loss: 0.4584 - accuracy: 0.9716 - val_loss: 1.0396 - val_accuracy: 0.8020\n",
      "Epoch 12/20\n",
      "32/32 [==============================] - 27s 838ms/step - loss: 0.4125 - accuracy: 0.9824 - val_loss: 1.0012 - val_accuracy: 0.8069\n",
      "Epoch 13/20\n",
      "32/32 [==============================] - 28s 870ms/step - loss: 0.3575 - accuracy: 0.9833 - val_loss: 0.9622 - val_accuracy: 0.8118\n",
      "Epoch 14/20\n",
      "32/32 [==============================] - 27s 828ms/step - loss: 0.3212 - accuracy: 0.9892 - val_loss: 0.9313 - val_accuracy: 0.8176\n",
      "Epoch 15/20\n",
      "32/32 [==============================] - 26s 820ms/step - loss: 0.2732 - accuracy: 0.9941 - val_loss: 0.9055 - val_accuracy: 0.8216\n",
      "Epoch 16/20\n",
      "32/32 [==============================] - 27s 835ms/step - loss: 0.2498 - accuracy: 0.9951 - val_loss: 0.8859 - val_accuracy: 0.8225\n",
      "Epoch 17/20\n",
      "32/32 [==============================] - 26s 821ms/step - loss: 0.2459 - accuracy: 0.9922 - val_loss: 0.8590 - val_accuracy: 0.8245\n",
      "Epoch 18/20\n",
      "32/32 [==============================] - 26s 828ms/step - loss: 0.2069 - accuracy: 0.9941 - val_loss: 0.8346 - val_accuracy: 0.8275\n",
      "Epoch 19/20\n",
      "32/32 [==============================] - 26s 820ms/step - loss: 0.1792 - accuracy: 0.9971 - val_loss: 0.8185 - val_accuracy: 0.8363\n",
      "Epoch 20/20\n",
      "32/32 [==============================] - 27s 830ms/step - loss: 0.1600 - accuracy: 0.9980 - val_loss: 0.8008 - val_accuracy: 0.8373\n"
     ]
    }
   ],
   "source": [
    "history = model.fit_generator(train_generator,\n",
    "                              steps_per_epoch=num_steps,\n",
    "                              epochs=num_epochs,\n",
    "                              validation_data=valid_generator,\n",
    "                              callbacks=callbacks_list)"
   ]
  },
  {
   "cell_type": "markdown",
   "metadata": {
    "colab_type": "text",
    "id": "nZBlMAU7kEwK"
   },
   "source": [
    "## 訓練結果視覺化"
   ]
  },
  {
   "cell_type": "code",
   "execution_count": 116,
   "metadata": {},
   "outputs": [
    {
     "name": "stdout",
     "output_type": "stream",
     "text": [
      "32/32 - 7s - loss: 0.8008 - accuracy: 0.8373\n"
     ]
    }
   ],
   "source": [
    "loss, acc = model.evaluate_generator(valid_generator, verbose=2)"
   ]
  },
  {
   "cell_type": "code",
   "execution_count": 117,
   "metadata": {},
   "outputs": [],
   "source": [
    "y_pred = model.predict_generator(valid_generator)\n",
    "y_pred = y_pred.argmax(-1)"
   ]
  },
  {
   "cell_type": "code",
   "execution_count": 118,
   "metadata": {},
   "outputs": [],
   "source": [
    "y_test = valid_generator.classes\n",
    "class_name = valid_generator.class_indices\n",
    "class_names = np.array([each for each in class_name.keys()])"
   ]
  },
  {
   "cell_type": "code",
   "execution_count": 101,
   "metadata": {},
   "outputs": [
    {
     "name": "stdout",
     "output_type": "stream",
     "text": [
      "0.5666666666666667\n",
      "[[4 0 0 ... 0 0 0]\n",
      " [0 9 0 ... 0 0 0]\n",
      " [0 0 0 ... 0 0 0]\n",
      " ...\n",
      " [0 0 0 ... 9 0 0]\n",
      " [0 0 0 ... 0 3 0]\n",
      " [1 0 0 ... 0 0 9]]\n"
     ]
    }
   ],
   "source": [
    "from sklearn.metrics import accuracy_score, confusion_matrix\n",
    "\n",
    "print(accuracy_score(y_test, y_pred))\n",
    "print(confusion_matrix(y_test, y_pred))"
   ]
  },
  {
   "cell_type": "code",
   "execution_count": 119,
   "metadata": {
    "colab": {},
    "colab_type": "code",
    "id": "XtUqvUzVSU82"
   },
   "outputs": [
    {
     "data": {
      "image/png": "[encoded data removed]",
      "text/plain": [
       "<Figure size 864x360 with 2 Axes>"
      ]
     },
     "metadata": {
      "needs_background": "light"
     },
     "output_type": "display_data"
    }
   ],
   "source": [
    "train_history = ['loss', 'val_loss', 'accuracy', 'val_accuracy']\n",
    "name_history = ['training_loss', 'val_loss', 'training_acc', 'val_acc']\n",
    "\n",
    "plt.figure(figsize=(12, 5))\n",
    "for eachx, eachy, i in zip(train_history, name_history, range(4)):\n",
    "    if i % 2 == 0:\n",
    "        plt.subplot(1, 2, i//2+1)\n",
    "    l_x = len(history.history[eachx])\n",
    "    plt.plot(np.arange(l_x), history.history[eachx], label=eachy)\n",
    "    plt.legend(loc='best')\n",
    "    plt.title('model'+eachy)\n",
    "plt.show()"
   ]
  },
  {
   "cell_type": "code",
   "execution_count": null,
   "metadata": {
    "colab": {},
    "colab_type": "code",
    "id": "wk6elT6ogjA3"
   },
   "outputs": [],
   "source": []
  }
 ],
 "metadata": {
  "accelerator": "GPU",
  "colab": {
   "collapsed_sections": [],
   "name": "ex3_CNN_transfer_learning.ipynb",
   "provenance": [
    {
     "file_id": "12H2XwTQeBcLbOYWHLw4J_3AObwxIp_nT",
     "timestamp": 1553101208325
    }
   ],
   "version": "0.3.2"
  },
  "kernelspec": {
   "display_name": "Python 3",
   "language": "python",
   "name": "python3"
  },
  "language_info": {
   "codemirror_mode": {
    "name": "ipython",
    "version": 3
   },
   "file_extension": ".py",
   "mimetype": "text/x-python",
   "name": "python",
   "nbconvert_exporter": "python",
   "pygments_lexer": "ipython3",
   "version": "3.7.3"
  }
 },
 "nbformat": 4,
 "nbformat_minor": 4
}
